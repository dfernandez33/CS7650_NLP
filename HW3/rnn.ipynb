{
 "cells": [
  {
   "cell_type": "markdown",
   "metadata": {
    "id": "Zjf-MynEL0tS",
    "colab_type": "text"
   },
   "source": [
    "\n",
    "\n",
    "# Generating Shakespeare with a Character-Level RNN\n"
   ]
  },
  {
   "cell_type": "markdown",
   "metadata": {
    "id": "ysKvp1QhL0tV",
    "colab_type": "text"
   },
   "source": [
    "In this part, we'll turn from traditional n-gram based language models to a more advanced form of language modeling using a Recurrent Neural Network. Specifically, we'll be setting up a character-level recurrent neural network (char-rnn) for short.\n",
    "\n",
    "Andrej Karpathy, a researcher at OpenAI, has written an excellent blog post about using RNNs for language models, which you should read before beginning this assignment.  The title of his blog post is [The Unreasonable Effectiveness of Recurrent Neural Networks](http://karpathy.github.io/2015/05/21/rnn-effectiveness/).\n",
    "\n",
    "Karpathy shows how char-rnns can be used to generate texts for several fun domains:\n",
    "* Shakespeare plays\n",
    "* Essays about economics\n",
    "* LaTeX documents\n",
    "* Linux source code\n",
    "* Baby names\n",
    "\n",
    "<div class=\"alert alert-info\" markdown=\"1\">\n",
    "Here are the materials that you should download for this assignment:\n",
    "\n",
    "* [training data and devlopment data for generation](https://www.cc.gatech.edu/classes/AY2020/cs7650_spring/hw3/lm/data.zip).\n",
    "</div>\n",
    "\n",
    "# Recommended Reading\n",
    "\n",
    "You should install PyTorch, know Python, and understand Tensors:\n",
    "\n",
    "* http://pytorch.org/ For installation instructions\n",
    "* [Deep Learning with PyTorch: A 60-minute Blitz](https://github.com/pytorch/tutorials/blob/master/Deep%20Learning%20with%20PyTorch.ipynb) to get started with PyTorch in general\n",
    "* [jcjohnson's PyTorch examples](https://github.com/jcjohnson/pytorch-examples) for an in depth overview\n",
    "* [Introduction to PyTorch for former Torchies](https://github.com/pytorch/tutorials/blob/master/Introduction%20to%20PyTorch%20for%20former%20Torchies.ipynb) if you are former Lua Torch user\n",
    "\n",
    "It would also be useful to know about RNNs and how they work:\n",
    "\n",
    "* [The Unreasonable Effectiveness of Recurrent Neural Networks](http://karpathy.github.io/2015/05/21/rnn-effectiveness/) shows a bunch of real life examples\n",
    "* [Understanding LSTM Networks](http://colah.github.io/posts/2015-08-Understanding-LSTMs/) is about LSTMs specifically but also informative about RNNs in general\n",
    "\n",
    "Also see these related tutorials from the series:\n",
    "\n",
    "* [Classifying Names with a Character-Level RNN](https://github.com/spro/practical-pytorch/blob/master/char-rnn-classification/char-rnn-classification.ipynb) uses an RNN for classification\n",
    "* [Generating Names with a Conditional Character-Level RNN](https://github.com/spro/practical-pytorch/blob/master/conditional-char-rnn/conditional-char-rnn.ipynb) builds on this model to add a category as input\n",
    "\n",
    "## You can also set up Pytorch in Google Colab\n",
    "\n",
    "Pytorch is one of the most popular deep learning frameworks in both industry and academia, and learning its use will be invaluable should you choose a career in deep learning. \n",
    "\n",
    "### Setup\n",
    "#### Using Google Colab (recommended)\n",
    "1. Upload this notebook on [Colab](https://colab.research.google.com/notebooks/welcome.ipynb).\n",
    "2. Set hardware accelerator to ```GPU``` under ```notebook settings``` in the ```Edit``` menu.\n",
    "3. Run the first cell to  set up  the environment.\n",
    "\n",
    "### Note\n",
    "Please look at the FAQ section before you start working.\n"
   ]
  },
  {
   "cell_type": "markdown",
   "metadata": {
    "id": "7OixG0yFL0tW",
    "colab_type": "text"
   },
   "source": [
    "# Prepare data\n",
    "\n",
    "The file we are using is a plain text file. We turn any potential unicode characters into plain ASCII by using the `unidecode` package (which you can install via `pip` or `conda`)."
   ]
  },
  {
   "cell_type": "code",
   "execution_count": 0,
   "metadata": {
    "id": "3cGEVSPQMNS2",
    "colab_type": "code",
    "outputId": "3f0909d5-8597-4ccb-9009-b78f07537a83",
    "colab": {
     "base_uri": "https://localhost:8080/",
     "height": 85.0
    }
   },
   "outputs": [
    {
     "name": "stdout",
     "output_type": "stream",
     "text": [
      "Archive:  /content/data.zip\n",
      "   creating: data/\n",
      "  inflating: data/shakespeare_input.txt  \n",
      "  inflating: data/shakespeare_sonnets.txt  \n"
     ]
    }
   ],
   "source": [
    "!unzip /content/data.zip"
   ]
  },
  {
   "cell_type": "code",
   "execution_count": 0,
   "metadata": {
    "id": "VoAqDEOSUoH7",
    "colab_type": "code",
    "outputId": "f8bbb9ec-a86b-453b-e58c-8be612d5f27e",
    "colab": {
     "base_uri": "https://localhost:8080/",
     "height": 102.0
    }
   },
   "outputs": [
    {
     "name": "stdout",
     "output_type": "stream",
     "text": [
      "Collecting unidecode\n",
      "\u001b[?25l  Downloading https://files.pythonhosted.org/packages/d0/42/d9edfed04228bacea2d824904cae367ee9efd05e6cce7ceaaedd0b0ad964/Unidecode-1.1.1-py2.py3-none-any.whl (238kB)\n",
      "\r\u001b[K     |█▍                              | 10kB 25.5MB/s eta 0:00:01\r\u001b[K     |██▊                             | 20kB 32.7MB/s eta 0:00:01\r\u001b[K     |████▏                           | 30kB 23.4MB/s eta 0:00:01\r\u001b[K     |█████▌                          | 40kB 19.2MB/s eta 0:00:01\r\u001b[K     |██████▉                         | 51kB 14.1MB/s eta 0:00:01\r\u001b[K     |████████▎                       | 61kB 13.3MB/s eta 0:00:01\r\u001b[K     |█████████▋                      | 71kB 13.3MB/s eta 0:00:01\r\u001b[K     |███████████                     | 81kB 12.6MB/s eta 0:00:01\r\u001b[K     |████████████▍                   | 92kB 12.6MB/s eta 0:00:01\r\u001b[K     |█████████████▊                  | 102kB 11.9MB/s eta 0:00:01\r\u001b[K     |███████████████▏                | 112kB 11.9MB/s eta 0:00:01\r\u001b[K     |████████████████▌               | 122kB 11.9MB/s eta 0:00:01\r\u001b[K     |█████████████████▉              | 133kB 11.9MB/s eta 0:00:01\r\u001b[K     |███████████████████▎            | 143kB 11.9MB/s eta 0:00:01\r\u001b[K     |████████████████████▋           | 153kB 11.9MB/s eta 0:00:01\r\u001b[K     |██████████████████████          | 163kB 11.9MB/s eta 0:00:01\r\u001b[K     |███████████████████████▍        | 174kB 11.9MB/s eta 0:00:01\r\u001b[K     |████████████████████████▊       | 184kB 11.9MB/s eta 0:00:01\r\u001b[K     |██████████████████████████▏     | 194kB 11.9MB/s eta 0:00:01\r\u001b[K     |███████████████████████████▌    | 204kB 11.9MB/s eta 0:00:01\r\u001b[K     |████████████████████████████▉   | 215kB 11.9MB/s eta 0:00:01\r\u001b[K     |██████████████████████████████▎ | 225kB 11.9MB/s eta 0:00:01\r\u001b[K     |███████████████████████████████▋| 235kB 11.9MB/s eta 0:00:01\r\u001b[K     |████████████████████████████████| 245kB 11.9MB/s \n",
      "\u001b[?25hInstalling collected packages: unidecode\n",
      "Successfully installed unidecode-1.1.1\n"
     ]
    }
   ],
   "source": [
    "!pip install unidecode"
   ]
  },
  {
   "cell_type": "code",
   "execution_count": 0,
   "metadata": {
    "id": "YIxmtHXoL0tX",
    "colab_type": "code",
    "outputId": "a977c4b1-746a-41d3-ef83-c4386f5fbfd1",
    "colab": {
     "base_uri": "https://localhost:8080/",
     "height": 34.0
    }
   },
   "outputs": [
    {
     "name": "stdout",
     "output_type": "stream",
     "text": [
      "file_len = 4573338\n"
     ]
    }
   ],
   "source": [
    "import unidecode\n",
    "import string\n",
    "import random\n",
    "import re\n",
    "\n",
    "all_characters = string.printable\n",
    "n_characters = len(all_characters)\n",
    "\n",
    "file = unidecode.unidecode(open('data/shakespeare_input.txt').read())\n",
    "file_len = len(file)\n",
    "print('file_len =', file_len)"
   ]
  },
  {
   "cell_type": "markdown",
   "metadata": {
    "id": "kbiOctcvL0tc",
    "colab_type": "text"
   },
   "source": [
    "To make inputs out of this big string of data, we will be splitting it into chunks."
   ]
  },
  {
   "cell_type": "code",
   "execution_count": 0,
   "metadata": {
    "id": "oe_Xs_-YL0td",
    "colab_type": "code",
    "outputId": "49789456-553c-498d-9fe4-4662d56dbaab",
    "colab": {
     "base_uri": "https://localhost:8080/",
     "height": 170.0
    }
   },
   "outputs": [
    {
     "name": "stdout",
     "output_type": "stream",
     "text": [
      "er\n",
      "constable. How long have you been in this place of constable?\n",
      "\n",
      "ELBOW:\n",
      "Seven year and a half, sir.\n",
      "\n",
      "ESCALUS:\n",
      "I thought, by your readiness in the office, you had\n",
      "continued in it some time. You say, se\n"
     ]
    }
   ],
   "source": [
    "chunk_len = 200\n",
    "\n",
    "def random_chunk():\n",
    "    start_index = random.randint(0, file_len - chunk_len)\n",
    "    end_index = start_index + chunk_len + 1\n",
    "    return file[start_index:end_index]\n",
    "\n",
    "print(random_chunk())"
   ]
  },
  {
   "cell_type": "markdown",
   "metadata": {
    "id": "ckP7Us_IL0tg",
    "colab_type": "text"
   },
   "source": [
    "# Build the Model\n",
    "\n",
    "This model will take as input the character for step $t_{-1}$ and is expected to output the next character $t$. There are three layers - one linear layer that encodes the input character into an internal state, one GRU layer (which may itself have multiple layers) that operates on that internal state and a hidden state, and a decoder layer that outputs the probability distribution. You need to finish the forward method. (Refer to [Pytorch GRU Documentation](https://pytorch.org/docs/stable/nn.html#gru))"
   ]
  },
  {
   "cell_type": "code",
   "execution_count": 0,
   "metadata": {
    "id": "IxG2knH5L0th",
    "colab_type": "code",
    "colab": {}
   },
   "outputs": [],
   "source": [
    "import torch\n",
    "import torch.nn as nn\n",
    "\n",
    "device = torch.device(\"cuda\" if torch.cuda.is_available() else \"cpu\")\n",
    "\n",
    "class RNN(nn.Module):\n",
    "    def __init__(self, input_size, hidden_size, output_size, n_layers=1):\n",
    "        super(RNN, self).__init__()\n",
    "        self.input_size = input_size\n",
    "        self.hidden_size = hidden_size\n",
    "        self.output_size = output_size\n",
    "        self.n_layers = n_layers\n",
    "        \n",
    "        self.encoder = nn.Embedding(input_size, hidden_size)\n",
    "        self.gru = nn.GRU(hidden_size, hidden_size, n_layers)\n",
    "        self.decoder = nn.Linear(hidden_size, output_size)\n",
    "    \n",
    "    def forward(self, input, hidden):\n",
    "        #Input input: torch Tensor of shape (1,)\n",
    "        #hidden: torch Tensor of shape (self.n_layers, 1, self.hidden_size)\n",
    "        #Return output: torch Tensor of shape (1, self.output_size) \n",
    "        #and hidden: torch Tensor of shape (self.n_layers, 1, self.hidden_size)\n",
    "        \n",
    "        embeddings = self.encoder(input.view(1, -1))\n",
    "        encoded_output, next_hidden = self.gru(embeddings.view(1, 1, -1), hidden)\n",
    "        output = self.decoder(encoded_output.view(1, -1))\n",
    "        return output, next_hidden\n",
    "\n",
    "\n",
    "    def init_hidden(self):\n",
    "        return torch.zeros(self.n_layers, 1, self.hidden_size).to(device)"
   ]
  },
  {
   "cell_type": "markdown",
   "metadata": {
    "id": "cKQnuTxhL0tl",
    "colab_type": "text"
   },
   "source": [
    "# Inputs and Targets"
   ]
  },
  {
   "cell_type": "markdown",
   "metadata": {
    "id": "GC3RXTS2L0tm",
    "colab_type": "text"
   },
   "source": [
    "Each chunk will be turned into a tensor, specifically a `LongTensor` (used for integer values), by looping through the characters of the string and looking up the index of each character in `all_characters`."
   ]
  },
  {
   "cell_type": "code",
   "execution_count": 0,
   "metadata": {
    "id": "6qcJzuXeL0tn",
    "colab_type": "code",
    "outputId": "a733977c-1dce-471f-a225-eb8a412a5078",
    "colab": {
     "base_uri": "https://localhost:8080/",
     "height": 34.0
    }
   },
   "outputs": [
    {
     "name": "stdout",
     "output_type": "stream",
     "text": [
      "tensor([10, 11, 12, 39, 40, 41], device='cuda:0')\n"
     ]
    }
   ],
   "source": [
    "# Turn string into list of longs\n",
    "def char_tensor(string):\n",
    "    tensor = torch.zeros(len(string)).long().to(device)\n",
    "    for c in range(len(string)):\n",
    "        tensor[c] = all_characters.index(string[c])\n",
    "    return tensor\n",
    "\n",
    "print(char_tensor('abcDEF'))"
   ]
  },
  {
   "cell_type": "markdown",
   "metadata": {
    "id": "YPVYS549L0tr",
    "colab_type": "text"
   },
   "source": [
    "Finally we can assemble a pair of input and target tensors for training, from a random chunk. The input will be all characters *up to the last*, and the target will be all characters *from the first*. So if our chunk is \"abc\" the input will correspond to \"ab\" while the target is \"bc\"."
   ]
  },
  {
   "cell_type": "code",
   "execution_count": 0,
   "metadata": {
    "id": "FctB9HdpL0ts",
    "colab_type": "code",
    "colab": {}
   },
   "outputs": [],
   "source": [
    "def random_training_set():    \n",
    "    chunk = random_chunk()\n",
    "    inp = char_tensor(chunk[:-1])\n",
    "    target = char_tensor(chunk[1:])\n",
    "    return inp, target"
   ]
  },
  {
   "cell_type": "markdown",
   "metadata": {
    "id": "6SEAzX9yL0tw",
    "colab_type": "text"
   },
   "source": [
    "# Evaluating\n",
    "\n",
    "To evaluate the network we will feed one character at a time, use the outputs of the network as a probability distribution for the next character, and repeat. To start generation we pass a priming string to start building up the hidden state, from which we then generate one character at a time."
   ]
  },
  {
   "cell_type": "code",
   "execution_count": 0,
   "metadata": {
    "id": "gcBXNkguL0ty",
    "colab_type": "code",
    "colab": {}
   },
   "outputs": [],
   "source": [
    "def evaluate(prime_str='A', predict_len=100, temperature=0.8):\n",
    "    hidden = decoder.init_hidden()\n",
    "    prime_input = char_tensor(prime_str)\n",
    "    predicted = prime_str\n",
    "\n",
    "    # Use priming string to \"build up\" hidden state\n",
    "    for p in range(len(prime_str) - 1):\n",
    "        _, hidden = decoder(prime_input[p], hidden)\n",
    "    inp = prime_input[-1]\n",
    "    \n",
    "    for p in range(predict_len):\n",
    "        output, hidden = decoder(inp, hidden)\n",
    "        \n",
    "        # Sample from the network as a multinomial distribution\n",
    "        output_dist = output.data.view(-1).div(temperature).exp()\n",
    "        top_i = torch.multinomial(output_dist, 1)[0]\n",
    "        \n",
    "        # Add predicted character to string and use as next input\n",
    "        predicted_char = all_characters[top_i]\n",
    "        predicted += predicted_char\n",
    "        inp = char_tensor(predicted_char)\n",
    "\n",
    "    return predicted"
   ]
  },
  {
   "cell_type": "markdown",
   "metadata": {
    "id": "aETJ7OyXL0t1",
    "colab_type": "text"
   },
   "source": [
    "# Training"
   ]
  },
  {
   "cell_type": "markdown",
   "metadata": {
    "id": "Ox--IPChL0t2",
    "colab_type": "text"
   },
   "source": [
    "A helper to print the amount of time passed:"
   ]
  },
  {
   "cell_type": "code",
   "execution_count": 0,
   "metadata": {
    "id": "ajZvP8K4L0t3",
    "colab_type": "code",
    "colab": {}
   },
   "outputs": [],
   "source": [
    "import time, math\n",
    "\n",
    "def time_since(since):\n",
    "    s = time.time() - since\n",
    "    m = math.floor(s / 60)\n",
    "    s -= m * 60\n",
    "    return '%dm %ds' % (m, s)"
   ]
  },
  {
   "cell_type": "markdown",
   "metadata": {
    "id": "68-fmvLeL0t8",
    "colab_type": "text"
   },
   "source": [
    "The main training function"
   ]
  },
  {
   "cell_type": "code",
   "execution_count": 0,
   "metadata": {
    "id": "fSGQtt5HL0t-",
    "colab_type": "code",
    "colab": {}
   },
   "outputs": [],
   "source": [
    "def train(inp, target):\n",
    "    hidden = decoder.init_hidden()\n",
    "    decoder.zero_grad()\n",
    "    loss = 0\n",
    "\n",
    "    for c in range(chunk_len):\n",
    "        output, hidden = decoder(inp[c], hidden)\n",
    "        loss += criterion(output, target.unsqueeze(1)[c])\n",
    "\n",
    "    loss.backward()\n",
    "    decoder_optimizer.step()\n",
    "\n",
    "    return loss.item() / chunk_len"
   ]
  },
  {
   "cell_type": "markdown",
   "metadata": {
    "id": "rs9wpdTqL0uD",
    "colab_type": "text"
   },
   "source": [
    "Then we define the training parameters, instantiate the model, and start training:"
   ]
  },
  {
   "cell_type": "code",
   "execution_count": 37,
   "metadata": {
    "scrolled": false,
    "id": "bborfvN3L0uF",
    "colab_type": "code",
    "outputId": "7078f710-8af7-43de-a2bb-8bb7b6e4216e",
    "colab": {
     "base_uri": "https://localhost:8080/",
     "height": 357.0
    }
   },
   "outputs": [
    {
     "name": "stdout",
     "output_type": "stream",
     "text": [
      "[0m 28s (100 5%) 3.0552]\n",
      "[0m 56s (200 10%) 2.5442]\n",
      "[1m 24s (300 15%) 2.3823]\n",
      "[1m 52s (400 20%) 2.2595]\n",
      "[2m 19s (500 25%) 2.2246]\n",
      "[2m 47s (600 30%) 2.2450]\n",
      "[3m 14s (700 35%) 2.1124]\n",
      "[3m 43s (800 40%) 2.0966]\n",
      "[4m 10s (900 45%) 2.0487]\n",
      "[4m 38s (1000 50%) 2.1335]\n",
      "[5m 6s (1100 55%) 1.9432]\n",
      "[5m 34s (1200 60%) 2.0884]\n",
      "[6m 2s (1300 65%) 1.8422]\n",
      "[6m 30s (1400 70%) 1.9461]\n",
      "[6m 58s (1500 75%) 1.9597]\n",
      "[7m 27s (1600 80%) 1.7516]\n",
      "[7m 54s (1700 85%) 1.6046]\n",
      "[8m 22s (1800 90%) 2.2661]\n",
      "[8m 50s (1900 95%) 1.9563]\n",
      "[9m 18s (2000 100%) 1.7806]\n"
     ]
    }
   ],
   "source": [
    "n_epochs = 2000\n",
    "print_every = 100\n",
    "plot_every = 10\n",
    "hidden_size = 150\n",
    "n_layers = 3\n",
    "lr = 0.005\n",
    "\n",
    "decoder = RNN(n_characters, hidden_size, n_characters, n_layers).to(device)\n",
    "decoder_optimizer = torch.optim.Adam(decoder.parameters(), lr=lr)\n",
    "criterion = nn.CrossEntropyLoss()\n",
    "\n",
    "start = time.time()\n",
    "all_losses = []\n",
    "loss_avg = 0\n",
    "\n",
    "for epoch in range(1, n_epochs + 1):\n",
    "    loss = train(*random_training_set())       \n",
    "    loss_avg += loss\n",
    "\n",
    "    if epoch % print_every == 0:\n",
    "        print('[%s (%d %d%%) %.4f]' % (time_since(start), epoch, epoch / n_epochs * 100, loss))\n",
    "        # print(evaluate('Wh', 100), '\\n')\n",
    "\n",
    "    if epoch % plot_every == 0:\n",
    "        all_losses.append(loss_avg / plot_every)\n",
    "        loss_avg = 0"
   ]
  },
  {
   "cell_type": "markdown",
   "metadata": {
    "id": "Na4_Ro4PL0uK",
    "colab_type": "text"
   },
   "source": [
    "# Plotting the Training Losses\n",
    "\n",
    "Plotting the historical loss from all_losses shows the network learning:"
   ]
  },
  {
   "cell_type": "code",
   "execution_count": 38,
   "metadata": {
    "id": "xCexj6PGL0uL",
    "colab_type": "code",
    "outputId": "4faf4585-3015-4c73-f6a2-4460b2bc3d8b",
    "colab": {
     "base_uri": "https://localhost:8080/",
     "height": 282.0
    }
   },
   "outputs": [
    {
     "data": {
      "text/plain": [
       "[<matplotlib.lines.Line2D at 0x7f4958b03eb8>]"
      ]
     },
     "execution_count": 38,
     "metadata": {
      "tags": []
     },
     "output_type": "execute_result"
    },
    {
     "data": {
      "image/png": "[encoded data removed]",
      "text/plain": [
       "<Figure size 432x288 with 1 Axes>"
      ]
     },
     "metadata": {
      "tags": []
     },
     "output_type": "display_data"
    }
   ],
   "source": [
    "import matplotlib.pyplot as plt\n",
    "import matplotlib.ticker as ticker\n",
    "%matplotlib inline\n",
    "\n",
    "plt.figure()\n",
    "plt.plot(all_losses)"
   ]
  },
  {
   "cell_type": "markdown",
   "metadata": {
    "id": "miWWCbqhL0uO",
    "colab_type": "text"
   },
   "source": [
    "# Evaluating at different \"temperatures\"\n",
    "\n",
    "In the `evaluate` function above, every time a prediction is made the outputs are divided by the \"temperature\" argument passed. Using a higher number makes all actions more equally likely, and thus gives us \"more random\" outputs. Using a lower value (less than 1) makes high probabilities contribute more. As we turn the temperature towards zero we are choosing only the most likely outputs.\n",
    "\n",
    "We can see the effects of this by adjusting the `temperature` argument."
   ]
  },
  {
   "cell_type": "code",
   "execution_count": 43,
   "metadata": {
    "id": "77_g5pTqL0uP",
    "colab_type": "code",
    "outputId": "c3b6f40d-64f6-4fec-c927-5a8fc0c20fe6",
    "colab": {
     "base_uri": "https://localhost:8080/",
     "height": 170.0
    }
   },
   "outputs": [
    {
     "name": "stdout",
     "output_type": "stream",
     "text": [
      "The like the bate will have thew\n",
      "As a come her have the love the procesters in the saint be my streech.\n",
      "\n",
      "HARTONE:\n",
      "A say, my shall but a bent of the part the comes,\n",
      "What con the prisens our shall thy horders the wand of the done.\n",
      "\n",
      "QUEE HERNY:\n",
      "O courter \n"
     ]
    }
   ],
   "source": [
    "print(evaluate('Th', 250, temperature=0.5))"
   ]
  },
  {
   "cell_type": "markdown",
   "metadata": {
    "id": "6qejMpNiL0uU",
    "colab_type": "text"
   },
   "source": [
    "Lower temperatures are less varied, choosing only the more probable outputs:"
   ]
  },
  {
   "cell_type": "code",
   "execution_count": 42,
   "metadata": {
    "id": "elRYkxrhL0uV",
    "colab_type": "code",
    "outputId": "bc75d8ce-6811-4df5-ab7e-f90b419556d0",
    "colab": {
     "base_uri": "https://localhost:8080/",
     "height": 68.0
    }
   },
   "outputs": [
    {
     "name": "stdout",
     "output_type": "stream",
     "text": [
      "Ther are the word the father thee are a bentless the say,\n",
      "The doot the come the warrer will man the shall forth the man the say the pring the sires your bent the word the dorter\n",
      "The wand the say the worn the dorter the great of her have the bent the co\n"
     ]
    }
   ],
   "source": [
    "print(evaluate('Th', 250, temperature=0.2))"
   ]
  },
  {
   "cell_type": "markdown",
   "metadata": {
    "id": "gj1U7bwFL0uZ",
    "colab_type": "text"
   },
   "source": [
    "Higher temperatures more varied, choosing less probable outputs:"
   ]
  },
  {
   "cell_type": "code",
   "execution_count": 41,
   "metadata": {
    "id": "3xf41H24L0ua",
    "colab_type": "code",
    "outputId": "b976ef90-a1db-4e91-8631-12acde29d5fd",
    "colab": {
     "base_uri": "https://localhost:8080/",
     "height": 238.0
    }
   },
   "outputs": [
    {
     "name": "stdout",
     "output_type": "stream",
     "text": [
      "This!\n",
      "\n",
      "EMALIE:\n",
      "he, it! voudnatyredn tpreccreed'motes kend dy'm.\n",
      "\n",
      "CRELGHon::W+ persknes. Gmaim;\n",
      "I whas boocking I vutingtapgal!\n",
      "Afdein,\n",
      "Secome oL A't, ol do Weaw\n",
      "Ohers I rlowy macr na go'sgern, ye I'll !\n",
      "\n",
      "VOG5iks thinobsed.\n",
      "M fioint at byanve dody aduly\n"
     ]
    }
   ],
   "source": [
    "print(evaluate('Th', 250, temperature=1.4))"
   ]
  },
  {
   "cell_type": "code",
   "execution_count": 39,
   "metadata": {
    "id": "q3kAYV8CL0ud",
    "colab_type": "code",
    "outputId": "2ff46225-569c-4c9c-a193-ac09bb8df470",
    "colab": {
     "base_uri": "https://localhost:8080/",
     "height": 34.0
    }
   },
   "outputs": [
    {
     "name": "stdout",
     "output_type": "stream",
     "text": [
      "Perplexity: 6.907471179962158\n"
     ]
    }
   ],
   "source": [
    "import torch.nn.functional as F\n",
    "def perp(testfile):\n",
    "    inp = char_tensor(testfile[:-1])\n",
    "    target = char_tensor(testfile[1:])\n",
    "    test_len=len(testfile)\n",
    "    hidden = decoder.init_hidden()\n",
    "    decoder.zero_grad()\n",
    "    perplexity=torch.tensor(0.0)\n",
    "\n",
    "    for c in range(test_len-1):\n",
    "        output, hidden = decoder(inp[c], hidden)\n",
    "        perplexity -=F.log_softmax(output,dim=1)[0][target[c]]\n",
    "\n",
    "    return (perplexity/test_len).exp().item()\n",
    "\n",
    "testfile = unidecode.unidecode(open('data/shakespeare_sonnets.txt').read())\n",
    "print('Perplexity:',perp(testfile))"
   ]
  },
  {
   "cell_type": "markdown",
   "metadata": {
    "collapsed": true,
    "id": "qogMu10DL0uh",
    "colab_type": "text"
   },
   "source": [
    "## FAQs\n",
    "\n",
    "#### I'm unfamiliar with PyTorch. How do I get started?\n",
    "If you are new to the paradigm of computational graphs and functional programming, please have a look at this [tutorial](https://hackernoon.com/linear-regression-in-x-minutes-using-pytorch-8eec49f6a0e2) before getting started.\n",
    "\n",
    "#### How do I speed up training?\n",
    "Send the model and the input, output tensors to the GPU using ```.to(device)```. Refer the [PyTorch docs](https://pytorch.org/docs/stable/notes/cuda.html) for further information.\n"
   ]
  },
  {
   "cell_type": "code",
   "execution_count": 0,
   "metadata": {
    "id": "i_UvIKMGL0ui",
    "colab_type": "code",
    "colab": {}
   },
   "outputs": [],
   "source": [
    ""
   ]
  },
  {
   "cell_type": "code",
   "execution_count": 0,
   "metadata": {
    "id": "k_tcXIcAL0up",
    "colab_type": "code",
    "colab": {}
   },
   "outputs": [],
   "source": [
    ""
   ]
  },
  {
   "cell_type": "code",
   "execution_count": 0,
   "metadata": {
    "id": "LuJVjUzAL0ut",
    "colab_type": "code",
    "colab": {}
   },
   "outputs": [],
   "source": [
    ""
   ]
  },
  {
   "cell_type": "code",
   "execution_count": 0,
   "metadata": {
    "id": "i4UIIjKML0ux",
    "colab_type": "code",
    "colab": {}
   },
   "outputs": [],
   "source": [
    ""
   ]
  }
 ],
 "metadata": {
  "anaconda-cloud": {},
  "kernelspec": {
   "name": "python3",
   "display_name": "Python 3"
  },
  "language_info": {
   "codemirror_mode": {
    "name": "ipython",
    "version": 3
   },
   "file_extension": ".py",
   "mimetype": "text/x-python",
   "name": "python",
   "nbconvert_exporter": "python",
   "pygments_lexer": "ipython3",
   "version": "3.7.1"
  },
  "colab": {
   "name": "rnn.ipynb",
   "provenance": []
  },
  "accelerator": "GPU"
 },
 "nbformat": 4,
 "nbformat_minor": 0
}
